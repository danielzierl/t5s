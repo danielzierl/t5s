{
  "nbformat": 4,
  "nbformat_minor": 0,
  "metadata": {
    "colab": {
      "name": "t5litik.ipynb",
      "provenance": [],
      "collapsed_sections": [],
      "authorship_tag": "ABX9TyMri4lKdGlorQYdMo8gqPte",
      "include_colab_link": true
    },
    "kernelspec": {
      "name": "python3",
      "display_name": "Python 3"
    },
    "accelerator": "GPU"
  },
  "cells": [
    {
      "cell_type": "markdown",
      "metadata": {
        "id": "view-in-github",
        "colab_type": "text"
      },
      "source": [
        "<a href=\"https://colab.research.google.com/github/honzas83/t5s/blob/main/examples/t5litik.ipynb\" target=\"_parent\"><img src=\"https://colab.research.google.com/assets/colab-badge.svg\" alt=\"Open In Colab\"/></a>"
      ]
    },
    {
      "cell_type": "markdown",
      "metadata": {
        "id": "ReURfrtav_23"
      },
      "source": [
        "# Instalace potřebných knihoven"
      ]
    },
    {
      "cell_type": "code",
      "metadata": {
        "id": "ibdAhoBpv8Dq"
      },
      "source": [
        "%%capture pip_install\n",
        "!pip install git+https://github.com/honzas83/t5s --upgrade"
      ],
      "execution_count": null,
      "outputs": []
    },
    {
      "cell_type": "markdown",
      "metadata": {
        "id": "_H1L2UIGwEEQ"
      },
      "source": [
        "# Stažení modelu"
      ]
    },
    {
      "cell_type": "code",
      "metadata": {
        "id": "xmOTsiWQwDhe"
      },
      "source": [
        "!gdown --id 1X1U7qXStJkLVsfZ7kGYuXUsrXJ6ODFom && unzip -u t5litik.zip"
      ],
      "execution_count": null,
      "outputs": []
    },
    {
      "cell_type": "markdown",
      "metadata": {
        "id": "vW7aosB01yum"
      },
      "source": [
        "Importování knihoven"
      ]
    },
    {
      "cell_type": "code",
      "metadata": {
        "id": "_MVc0Y9xx93Q"
      },
      "source": [
        "import t5s\n",
        "from IPython.core.display import display, HTML\n",
        "import re"
      ],
      "execution_count": null,
      "outputs": []
    },
    {
      "cell_type": "markdown",
      "metadata": {
        "id": "R7atdMQ5110j"
      },
      "source": [
        "## Vytvoření instance třídy T5 z knihovny t5s"
      ]
    },
    {
      "cell_type": "code",
      "metadata": {
        "id": "Fyyo_LuYyTeR"
      },
      "source": [
        "t5litik = t5s.T5(\"./t5litik.yaml\")\n",
        "t5litik.load_model()"
      ],
      "execution_count": null,
      "outputs": []
    },
    {
      "cell_type": "code",
      "metadata": {
        "id": "Qe-QMlWhzgYX"
      },
      "source": [
        "def end_sentence(output):\n",
        "    \"Funkce pro odříznutí slov zbylých za poslední tečkou\"\n",
        "    return output.rsplit(\".\", 1)[0]+\".\""
      ],
      "execution_count": null,
      "outputs": []
    },
    {
      "cell_type": "code",
      "metadata": {
        "id": "_pmH3sN0yY0i"
      },
      "source": [
        "print(\"Po spuštění zadejte vstup do vstupního řádku, pro ukončení zadejte prázdný vstup.\")\n",
        "while True:\n",
        "    i = input(\"> \")\n",
        "    if not i:\n",
        "        break\n",
        "    o = t5litik.predict([i])\n",
        "    o = end_sentence(o[0])\n",
        "    display(HTML(\"<b>\"+o+\"</b>\"))\n",
        "    print()"
      ],
      "execution_count": null,
      "outputs": []
    },
    {
      "cell_type": "code",
      "metadata": {
        "id": "oZD3PwKj2VpL"
      },
      "source": [],
      "execution_count": null,
      "outputs": []
    }
  ]
}