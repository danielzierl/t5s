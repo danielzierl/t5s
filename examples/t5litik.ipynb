{
  "nbformat": 4,
  "nbformat_minor": 0,
  "metadata": {
    "colab": {
      "name": "t5litik.ipynb",
      "provenance": [],
      "collapsed_sections": [],
      "authorship_tag": "ABX9TyODI/jI2LQApa7f1AgVJJgD",
      "include_colab_link": true
    },
    "kernelspec": {
      "name": "python3",
      "display_name": "Python 3"
    },
    "accelerator": "GPU"
  },
  "cells": [
    {
      "cell_type": "markdown",
      "metadata": {
        "id": "view-in-github",
        "colab_type": "text"
      },
      "source": [
        "<a href=\"https://colab.research.google.com/github/honzas83/t5s/blob/main/examples/t5litik.ipynb\" target=\"_parent\"><img src=\"https://colab.research.google.com/assets/colab-badge.svg\" alt=\"Open In Colab\"/></a>"
      ]
    },
    {
      "cell_type": "markdown",
      "metadata": {
        "id": "ReURfrtav_23"
      },
      "source": [
        "# Instalace potřebných knihoven"
      ]
    },
    {
      "cell_type": "code",
      "metadata": {
        "id": "ibdAhoBpv8Dq"
      },
      "source": [
        "%%capture pip_install\n",
        "!pip install git+https://github.com/honzas83/t5s tensorflow==2.3 tensorflow-text==2.3 --upgrade"
      ],
      "execution_count": 5,
      "outputs": []
    },
    {
      "cell_type": "markdown",
      "metadata": {
        "id": "_H1L2UIGwEEQ"
      },
      "source": [
        "# Stažení modelu"
      ]
    },
    {
      "cell_type": "code",
      "metadata": {
        "colab": {
          "base_uri": "https://localhost:8080/"
        },
        "id": "xmOTsiWQwDhe",
        "outputId": "e4ffd8f8-8a80-4bd5-f30c-8b8b8d85949a"
      },
      "source": [
        "!gdown --id 1X1U7qXStJkLVsfZ7kGYuXUsrXJ6ODFom && unzip -u t5litik.zip"
      ],
      "execution_count": 2,
      "outputs": [
        {
          "output_type": "stream",
          "text": [
            "Downloading...\n",
            "From: https://drive.google.com/uc?id=1X1U7qXStJkLVsfZ7kGYuXUsrXJ6ODFom\n",
            "To: /content/t5litik.zip\n",
            "798MB [00:08, 90.7MB/s]\n",
            "Archive:  t5litik.zip\n",
            "   creating: t5litik/\n",
            "  inflating: t5litik.spm             \n",
            "  inflating: t5litik.yaml            \n",
            "  inflating: t5litik/config.json     \n",
            "  inflating: t5litik/tf_model.h5     \n"
          ],
          "name": "stdout"
        }
      ]
    },
    {
      "cell_type": "markdown",
      "metadata": {
        "id": "vW7aosB01yum"
      },
      "source": [
        "Importování knihoven"
      ]
    },
    {
      "cell_type": "code",
      "metadata": {
        "id": "_MVc0Y9xx93Q"
      },
      "source": [
        "import t5s\n",
        "from IPython.core.display import display, HTML\n",
        "import re"
      ],
      "execution_count": 1,
      "outputs": []
    },
    {
      "cell_type": "markdown",
      "metadata": {
        "id": "R7atdMQ5110j"
      },
      "source": [
        "## Vytvoření instance třídy T5 z knihovny t5s"
      ]
    },
    {
      "cell_type": "code",
      "metadata": {
        "colab": {
          "base_uri": "https://localhost:8080/"
        },
        "id": "Fyyo_LuYyTeR",
        "outputId": "a56e2a06-db07-4364-8f43-629bc2efed4a"
      },
      "source": [
        "t5litik = t5s.T5(\"./t5litik.yaml\")\n",
        "t5litik.load_model()"
      ],
      "execution_count": 2,
      "outputs": [
        {
          "output_type": "stream",
          "text": [
            "All model checkpoint weights were used when initializing T5Training.\n",
            "\n",
            "All the weights of T5Training were initialized from the model checkpoint at t5litik.\n",
            "If your task is similar to the task the model of the checkpoint was trained on, you can already use T5Training for predictions without further training.\n"
          ],
          "name": "stderr"
        },
        {
          "output_type": "execute_result",
          "data": {
            "text/plain": [
              "<t5s.T5Training at 0x7fc87b020e50>"
            ]
          },
          "metadata": {
            "tags": []
          },
          "execution_count": 2
        }
      ]
    },
    {
      "cell_type": "code",
      "metadata": {
        "id": "Qe-QMlWhzgYX"
      },
      "source": [
        "def end_sentence(output):\n",
        "    \"Funkce pro odříznutí slov zbylých za poslední tečkou\"\n",
        "    return output.rsplit(\".\", 1)[0]+\".\""
      ],
      "execution_count": 3,
      "outputs": []
    },
    {
      "cell_type": "code",
      "metadata": {
        "id": "_pmH3sN0yY0i"
      },
      "source": [
        "print(\"Po spuštění zadejte vstup do vstupního řádku, pro ukončení zadejte prázdný vstup.\")\n",
        "while True:\n",
        "    i = input(\"> \")\n",
        "    if not i:\n",
        "        break\n",
        "    o = t5litik.predict([i])\n",
        "    o = end_sentence(o[0])\n",
        "    display(HTML(\"<b>\"+o+\"</b>\"))\n",
        "    print()"
      ],
      "execution_count": null,
      "outputs": []
    },
    {
      "cell_type": "code",
      "metadata": {
        "id": "oZD3PwKj2VpL"
      },
      "source": [
        ""
      ],
      "execution_count": null,
      "outputs": []
    }
  ]
}